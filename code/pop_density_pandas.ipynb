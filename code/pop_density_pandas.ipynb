{
  "nbformat": 4,
  "nbformat_minor": 0,
  "metadata": {
    "kernelspec": {
      "display_name": "Python 3",
      "language": "python",
      "name": "python3"
    },
    "language_info": {
      "codemirror_mode": {
        "name": "ipython",
        "version": 3
      },
      "file_extension": ".py",
      "mimetype": "text/x-python",
      "name": "python",
      "nbconvert_exporter": "python",
      "pygments_lexer": "ipython3",
      "version": "3.8.3"
    },
    "colab": {
      "name": "pop-density-pandas.ipynb",
      "provenance": []
    }
  },
  "cells": [
    {
      "cell_type": "code",
      "metadata": {
        "id": "d6Y1FbId_dLV"
      },
      "source": [
        "import pandas as pd\n",
        "import numpy as np\n",
        "import statsmodels.api as sm\n",
        "import statsmodels.formula.api as smf\n",
        "from IPython.display import Image\n",
        "from scipy.stats import ttest_ind, ttest_ind_from_stats"
      ],
      "execution_count": null,
      "outputs": []
    },
    {
      "cell_type": "code",
      "metadata": {
        "id": "Fy-oxktF_dLX",
        "outputId": "d2d21128-48ac-40c6-b8c0-e2aadbf669a3"
      },
      "source": [
        "#read in csv file\n",
        "df = pd.read_csv('pop-density-table.csv',header=6)\n",
        "df.head()"
      ],
      "execution_count": null,
      "outputs": [
        {
          "output_type": "execute_result",
          "data": {
            "text/html": [
              "<div>\n",
              "<style scoped>\n",
              "    .dataframe tbody tr th:only-of-type {\n",
              "        vertical-align: middle;\n",
              "    }\n",
              "\n",
              "    .dataframe tbody tr th {\n",
              "        vertical-align: top;\n",
              "    }\n",
              "\n",
              "    .dataframe thead th {\n",
              "        text-align: right;\n",
              "    }\n",
              "</style>\n",
              "<table border=\"1\" class=\"dataframe\">\n",
              "  <thead>\n",
              "    <tr style=\"text-align: right;\">\n",
              "      <th></th>\n",
              "      <th>[run number]</th>\n",
              "      <th>turtle-shape</th>\n",
              "      <th>density-people</th>\n",
              "      <th>pct-wearing-masks</th>\n",
              "      <th>[step]</th>\n",
              "      <th>pct-affected</th>\n",
              "      <th>pct-deaths</th>\n",
              "    </tr>\n",
              "  </thead>\n",
              "  <tbody>\n",
              "    <tr>\n",
              "      <th>0</th>\n",
              "      <td>7</td>\n",
              "      <td>person</td>\n",
              "      <td>250</td>\n",
              "      <td>75</td>\n",
              "      <td>0</td>\n",
              "      <td>4.8</td>\n",
              "      <td>0.0</td>\n",
              "    </tr>\n",
              "    <tr>\n",
              "      <th>1</th>\n",
              "      <td>6</td>\n",
              "      <td>person</td>\n",
              "      <td>250</td>\n",
              "      <td>75</td>\n",
              "      <td>0</td>\n",
              "      <td>4.8</td>\n",
              "      <td>0.0</td>\n",
              "    </tr>\n",
              "    <tr>\n",
              "      <th>2</th>\n",
              "      <td>2</td>\n",
              "      <td>person</td>\n",
              "      <td>250</td>\n",
              "      <td>75</td>\n",
              "      <td>0</td>\n",
              "      <td>4.8</td>\n",
              "      <td>0.0</td>\n",
              "    </tr>\n",
              "    <tr>\n",
              "      <th>3</th>\n",
              "      <td>8</td>\n",
              "      <td>person</td>\n",
              "      <td>250</td>\n",
              "      <td>75</td>\n",
              "      <td>0</td>\n",
              "      <td>4.8</td>\n",
              "      <td>0.0</td>\n",
              "    </tr>\n",
              "    <tr>\n",
              "      <th>4</th>\n",
              "      <td>6</td>\n",
              "      <td>person</td>\n",
              "      <td>250</td>\n",
              "      <td>75</td>\n",
              "      <td>1</td>\n",
              "      <td>6.4</td>\n",
              "      <td>0.0</td>\n",
              "    </tr>\n",
              "  </tbody>\n",
              "</table>\n",
              "</div>"
            ],
            "text/plain": [
              "   [run number] turtle-shape  density-people  pct-wearing-masks  [step]  \\\n",
              "0             7       person             250                 75       0   \n",
              "1             6       person             250                 75       0   \n",
              "2             2       person             250                 75       0   \n",
              "3             8       person             250                 75       0   \n",
              "4             6       person             250                 75       1   \n",
              "\n",
              "   pct-affected  pct-deaths  \n",
              "0           4.8         0.0  \n",
              "1           4.8         0.0  \n",
              "2           4.8         0.0  \n",
              "3           4.8         0.0  \n",
              "4           6.4         0.0  "
            ]
          },
          "metadata": {
            "tags": []
          },
          "execution_count": 21
        }
      ]
    },
    {
      "cell_type": "code",
      "metadata": {
        "id": "mdjaiEX-_dLY"
      },
      "source": [
        "#create new dataframe that holds just the numbers at the end of the run (t = 60)\n",
        "df1 = df[(df['[step]'] == 60)]"
      ],
      "execution_count": null,
      "outputs": []
    },
    {
      "cell_type": "code",
      "metadata": {
        "id": "48rK1oP__dLY",
        "outputId": "81529b4d-2172-4245-f0db-904a2f8f8871"
      },
      "source": [
        "#pivot table of population density vs percent affected over full time period\n",
        "pd.pivot_table(df, index=['density-people'], \n",
        "               values = ['pct-affected'], aggfunc = [np.mean])"
      ],
      "execution_count": null,
      "outputs": [
        {
          "output_type": "execute_result",
          "data": {
            "text/html": [
              "<div>\n",
              "<style scoped>\n",
              "    .dataframe tbody tr th:only-of-type {\n",
              "        vertical-align: middle;\n",
              "    }\n",
              "\n",
              "    .dataframe tbody tr th {\n",
              "        vertical-align: top;\n",
              "    }\n",
              "\n",
              "    .dataframe thead tr th {\n",
              "        text-align: left;\n",
              "    }\n",
              "\n",
              "    .dataframe thead tr:last-of-type th {\n",
              "        text-align: right;\n",
              "    }\n",
              "</style>\n",
              "<table border=\"1\" class=\"dataframe\">\n",
              "  <thead>\n",
              "    <tr>\n",
              "      <th></th>\n",
              "      <th>mean</th>\n",
              "    </tr>\n",
              "    <tr>\n",
              "      <th></th>\n",
              "      <th>pct-affected</th>\n",
              "    </tr>\n",
              "    <tr>\n",
              "      <th>density-people</th>\n",
              "      <th></th>\n",
              "    </tr>\n",
              "  </thead>\n",
              "  <tbody>\n",
              "    <tr>\n",
              "      <th>250</th>\n",
              "      <td>65.839301</td>\n",
              "    </tr>\n",
              "    <tr>\n",
              "      <th>500</th>\n",
              "      <td>83.545705</td>\n",
              "    </tr>\n",
              "    <tr>\n",
              "      <th>750</th>\n",
              "      <td>88.746230</td>\n",
              "    </tr>\n",
              "    <tr>\n",
              "      <th>1000</th>\n",
              "      <td>91.415213</td>\n",
              "    </tr>\n",
              "  </tbody>\n",
              "</table>\n",
              "</div>"
            ],
            "text/plain": [
              "                       mean\n",
              "               pct-affected\n",
              "density-people             \n",
              "250               65.839301\n",
              "500               83.545705\n",
              "750               88.746230\n",
              "1000              91.415213"
            ]
          },
          "metadata": {
            "tags": []
          },
          "execution_count": 27
        }
      ]
    },
    {
      "cell_type": "code",
      "metadata": {
        "id": "-eGK4vA1_dLY",
        "outputId": "ea901453-8f75-416c-e932-5190c29d7d19"
      },
      "source": [
        "import scipy.stats as stats\n",
        "\n",
        "#one-way anova for densities vs pct-affected\n",
        "affected250 = df[df['density-people'] == 250]['pct-affected']\n",
        "affected500 = df[df['density-people'] == 500]['pct-affected']\n",
        "affected750 = df[df['density-people'] == 750]['pct-affected']\n",
        "affected1000 = df[df['density-people'] == 1000]['pct-affected']\n",
        "stats.f_oneway(affected250, affected500, affected750, affected1000)"
      ],
      "execution_count": null,
      "outputs": [
        {
          "output_type": "execute_result",
          "data": {
            "text/plain": [
              "F_onewayResult(statistic=779.3134097555603, pvalue=0.0)"
            ]
          },
          "metadata": {
            "tags": []
          },
          "execution_count": 29
        }
      ]
    },
    {
      "cell_type": "markdown",
      "metadata": {
        "id": "hcTg67dC_dLZ"
      },
      "source": [
        "Because the pvalue for our ANOVA analysis is less than our alpha value of 0.05, we can say that there is a statistically significant difference between the percentage of people affected by the virus for population density of 250, 500, 750, 1000."
      ]
    },
    {
      "cell_type": "code",
      "metadata": {
        "id": "BzeORnQB_dLa",
        "outputId": "ee4f73e2-ce0c-42a5-9d21-a60c92871679"
      },
      "source": [
        "#pivot table of population density vs deaths at the end of the run\n",
        "pd.pivot_table(df1, index=['density-people'], \n",
        "               values = ['pct-deaths'], aggfunc = [np.mean])"
      ],
      "execution_count": null,
      "outputs": [
        {
          "output_type": "execute_result",
          "data": {
            "text/html": [
              "<div>\n",
              "<style scoped>\n",
              "    .dataframe tbody tr th:only-of-type {\n",
              "        vertical-align: middle;\n",
              "    }\n",
              "\n",
              "    .dataframe tbody tr th {\n",
              "        vertical-align: top;\n",
              "    }\n",
              "\n",
              "    .dataframe thead tr th {\n",
              "        text-align: left;\n",
              "    }\n",
              "\n",
              "    .dataframe thead tr:last-of-type th {\n",
              "        text-align: right;\n",
              "    }\n",
              "</style>\n",
              "<table border=\"1\" class=\"dataframe\">\n",
              "  <thead>\n",
              "    <tr>\n",
              "      <th></th>\n",
              "      <th>mean</th>\n",
              "    </tr>\n",
              "    <tr>\n",
              "      <th></th>\n",
              "      <th>pct-deaths</th>\n",
              "    </tr>\n",
              "    <tr>\n",
              "      <th>density-people</th>\n",
              "      <th></th>\n",
              "    </tr>\n",
              "  </thead>\n",
              "  <tbody>\n",
              "    <tr>\n",
              "      <th>250</th>\n",
              "      <td>82.970667</td>\n",
              "    </tr>\n",
              "    <tr>\n",
              "      <th>500</th>\n",
              "      <td>89.837333</td>\n",
              "    </tr>\n",
              "    <tr>\n",
              "      <th>750</th>\n",
              "      <td>89.889778</td>\n",
              "    </tr>\n",
              "    <tr>\n",
              "      <th>1000</th>\n",
              "      <td>90.092000</td>\n",
              "    </tr>\n",
              "  </tbody>\n",
              "</table>\n",
              "</div>"
            ],
            "text/plain": [
              "                     mean\n",
              "               pct-deaths\n",
              "density-people           \n",
              "250             82.970667\n",
              "500             89.837333\n",
              "750             89.889778\n",
              "1000            90.092000"
            ]
          },
          "metadata": {
            "tags": []
          },
          "execution_count": 30
        }
      ]
    },
    {
      "cell_type": "code",
      "metadata": {
        "id": "m3YLbb1t_dLa",
        "outputId": "208dc3db-4c2f-4d24-8ee6-4d8c8caf8980"
      },
      "source": [
        "#one-way anova for densities vs pct-deaths\n",
        "deaths250 = df1[df1['density-people'] == 250]['pct-deaths']\n",
        "deaths500 = df1[df1['density-people'] == 500]['pct-deaths']\n",
        "deaths750 = df1[df1['density-people'] == 750]['pct-deaths']\n",
        "deaths1000 = df1[df1['density-people'] == 1000]['pct-deaths']\n",
        "stats.f_oneway(deaths250, deaths500, deaths750, deaths1000)"
      ],
      "execution_count": null,
      "outputs": [
        {
          "output_type": "execute_result",
          "data": {
            "text/plain": [
              "F_onewayResult(statistic=226.10216860069022, pvalue=3.054271856172773e-76)"
            ]
          },
          "metadata": {
            "tags": []
          },
          "execution_count": 31
        }
      ]
    },
    {
      "cell_type": "markdown",
      "metadata": {
        "id": "WBfBuaNZ_dLb"
      },
      "source": [
        "Because the pvalue for our ANOVA analysis is less than our alpha value of 0.05, we can say that there is a statistically significant difference between the percentage of virus related deaths for population density of 250, 500, 750, 1000."
      ]
    },
    {
      "cell_type": "code",
      "metadata": {
        "id": "lF7UGSXyF72o"
      },
      "source": [
        ""
      ],
      "execution_count": null,
      "outputs": []
    },
    {
      "cell_type": "code",
      "metadata": {
        "id": "nyewEtV2_dLc"
      },
      "source": [
        ""
      ],
      "execution_count": null,
      "outputs": []
    }
  ]
}