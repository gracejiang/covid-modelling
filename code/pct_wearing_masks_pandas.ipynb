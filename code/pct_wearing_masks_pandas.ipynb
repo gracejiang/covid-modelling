{
  "nbformat": 4,
  "nbformat_minor": 0,
  "metadata": {
    "kernelspec": {
      "display_name": "Python 3",
      "language": "python",
      "name": "python3"
    },
    "language_info": {
      "codemirror_mode": {
        "name": "ipython",
        "version": 3
      },
      "file_extension": ".py",
      "mimetype": "text/x-python",
      "name": "python",
      "nbconvert_exporter": "python",
      "pygments_lexer": "ipython3",
      "version": "3.8.3"
    },
    "colab": {
      "name": "pct-wearing-masks-pandas.ipynb",
      "provenance": []
    }
  },
  "cells": [
    {
      "cell_type": "code",
      "metadata": {
        "colab": {
          "base_uri": "https://localhost:8080/"
        },
        "id": "GepQhnsELadC",
        "outputId": "3f329653-6512-44f1-b4a8-453e95eb6691"
      },
      "source": [
        "import pandas as pd\n",
        "import numpy as np\n",
        "import statsmodels.api as sm\n",
        "import statsmodels.formula.api as smf\n",
        "from IPython.display import Image\n",
        "from scipy.stats import ttest_ind, ttest_ind_from_stats"
      ],
      "execution_count": null,
      "outputs": [
        {
          "output_type": "stream",
          "text": [
            "/usr/local/lib/python3.6/dist-packages/statsmodels/tools/_testing.py:19: FutureWarning: pandas.util.testing is deprecated. Use the functions in the public API at pandas.testing instead.\n",
            "  import pandas.util.testing as tm\n"
          ],
          "name": "stderr"
        }
      ]
    },
    {
      "cell_type": "code",
      "metadata": {
        "colab": {
          "base_uri": "https://localhost:8080/",
          "height": 215
        },
        "id": "ld-0r7A0LadG",
        "outputId": "1195e1ff-3bea-4d6b-c2fd-783bc990b4ce"
      },
      "source": [
        "#read in csv file\n",
        "df = pd.read_csv('pct-wearing-masks-table.csv',header=6)\n",
        "df.head()"
      ],
      "execution_count": null,
      "outputs": [
        {
          "output_type": "execute_result",
          "data": {
            "text/html": [
              "<div>\n",
              "<style scoped>\n",
              "    .dataframe tbody tr th:only-of-type {\n",
              "        vertical-align: middle;\n",
              "    }\n",
              "\n",
              "    .dataframe tbody tr th {\n",
              "        vertical-align: top;\n",
              "    }\n",
              "\n",
              "    .dataframe thead th {\n",
              "        text-align: right;\n",
              "    }\n",
              "</style>\n",
              "<table border=\"1\" class=\"dataframe\">\n",
              "  <thead>\n",
              "    <tr style=\"text-align: right;\">\n",
              "      <th></th>\n",
              "      <th>[run number]</th>\n",
              "      <th>turtle-shape</th>\n",
              "      <th>density-people</th>\n",
              "      <th>pct-wearing-masks</th>\n",
              "      <th>[step]</th>\n",
              "      <th>pct-deaths</th>\n",
              "      <th>pct-affected</th>\n",
              "    </tr>\n",
              "  </thead>\n",
              "  <tbody>\n",
              "    <tr>\n",
              "      <th>0</th>\n",
              "      <td>2</td>\n",
              "      <td>person</td>\n",
              "      <td>300</td>\n",
              "      <td>0</td>\n",
              "      <td>0</td>\n",
              "      <td>0.0</td>\n",
              "      <td>5.0</td>\n",
              "    </tr>\n",
              "    <tr>\n",
              "      <th>1</th>\n",
              "      <td>7</td>\n",
              "      <td>person</td>\n",
              "      <td>300</td>\n",
              "      <td>20</td>\n",
              "      <td>0</td>\n",
              "      <td>0.0</td>\n",
              "      <td>5.0</td>\n",
              "    </tr>\n",
              "    <tr>\n",
              "      <th>2</th>\n",
              "      <td>9</td>\n",
              "      <td>person</td>\n",
              "      <td>300</td>\n",
              "      <td>20</td>\n",
              "      <td>0</td>\n",
              "      <td>0.0</td>\n",
              "      <td>5.0</td>\n",
              "    </tr>\n",
              "    <tr>\n",
              "      <th>3</th>\n",
              "      <td>6</td>\n",
              "      <td>person</td>\n",
              "      <td>300</td>\n",
              "      <td>20</td>\n",
              "      <td>0</td>\n",
              "      <td>0.0</td>\n",
              "      <td>5.0</td>\n",
              "    </tr>\n",
              "    <tr>\n",
              "      <th>4</th>\n",
              "      <td>8</td>\n",
              "      <td>person</td>\n",
              "      <td>300</td>\n",
              "      <td>20</td>\n",
              "      <td>0</td>\n",
              "      <td>0.0</td>\n",
              "      <td>5.0</td>\n",
              "    </tr>\n",
              "  </tbody>\n",
              "</table>\n",
              "</div>"
            ],
            "text/plain": [
              "   [run number] turtle-shape  density-people  ...  [step]  pct-deaths  pct-affected\n",
              "0             2       person             300  ...       0         0.0           5.0\n",
              "1             7       person             300  ...       0         0.0           5.0\n",
              "2             9       person             300  ...       0         0.0           5.0\n",
              "3             6       person             300  ...       0         0.0           5.0\n",
              "4             8       person             300  ...       0         0.0           5.0\n",
              "\n",
              "[5 rows x 7 columns]"
            ]
          },
          "metadata": {
            "tags": []
          },
          "execution_count": 3
        }
      ]
    },
    {
      "cell_type": "code",
      "metadata": {
        "id": "uTrmBOOSLadH"
      },
      "source": [
        "#create new dataframe that holds just the numbers at the end of the run (t = 60)\n",
        "df1 = df[(df['[step]'] == 60)]"
      ],
      "execution_count": null,
      "outputs": []
    },
    {
      "cell_type": "code",
      "metadata": {
        "colab": {
          "base_uri": "https://localhost:8080/",
          "height": 288
        },
        "id": "rI4RdYpALadH",
        "outputId": "f8d52883-9da3-4ff3-aa5c-382bd9ad0738"
      },
      "source": [
        "#pivot table of mask wearing vs percent affected over full time period\n",
        "pd.pivot_table(df, index=['pct-wearing-masks'], \n",
        "               values = ['pct-affected'], aggfunc = [np.mean])"
      ],
      "execution_count": null,
      "outputs": [
        {
          "output_type": "execute_result",
          "data": {
            "text/html": [
              "<div>\n",
              "<style scoped>\n",
              "    .dataframe tbody tr th:only-of-type {\n",
              "        vertical-align: middle;\n",
              "    }\n",
              "\n",
              "    .dataframe tbody tr th {\n",
              "        vertical-align: top;\n",
              "    }\n",
              "\n",
              "    .dataframe thead tr th {\n",
              "        text-align: left;\n",
              "    }\n",
              "\n",
              "    .dataframe thead tr:last-of-type th {\n",
              "        text-align: right;\n",
              "    }\n",
              "</style>\n",
              "<table border=\"1\" class=\"dataframe\">\n",
              "  <thead>\n",
              "    <tr>\n",
              "      <th></th>\n",
              "      <th>mean</th>\n",
              "    </tr>\n",
              "    <tr>\n",
              "      <th></th>\n",
              "      <th>pct-affected</th>\n",
              "    </tr>\n",
              "    <tr>\n",
              "      <th>pct-wearing-masks</th>\n",
              "      <th></th>\n",
              "    </tr>\n",
              "  </thead>\n",
              "  <tbody>\n",
              "    <tr>\n",
              "      <th>0</th>\n",
              "      <td>79.171640</td>\n",
              "    </tr>\n",
              "    <tr>\n",
              "      <th>20</th>\n",
              "      <td>75.796601</td>\n",
              "    </tr>\n",
              "    <tr>\n",
              "      <th>40</th>\n",
              "      <td>74.638007</td>\n",
              "    </tr>\n",
              "    <tr>\n",
              "      <th>60</th>\n",
              "      <td>63.949679</td>\n",
              "    </tr>\n",
              "    <tr>\n",
              "      <th>80</th>\n",
              "      <td>45.319220</td>\n",
              "    </tr>\n",
              "    <tr>\n",
              "      <th>100</th>\n",
              "      <td>9.954145</td>\n",
              "    </tr>\n",
              "  </tbody>\n",
              "</table>\n",
              "</div>"
            ],
            "text/plain": [
              "                          mean\n",
              "                  pct-affected\n",
              "pct-wearing-masks             \n",
              "0                    79.171640\n",
              "20                   75.796601\n",
              "40                   74.638007\n",
              "60                   63.949679\n",
              "80                   45.319220\n",
              "100                   9.954145"
            ]
          },
          "metadata": {
            "tags": []
          },
          "execution_count": 5
        }
      ]
    },
    {
      "cell_type": "code",
      "metadata": {
        "colab": {
          "base_uri": "https://localhost:8080/"
        },
        "id": "_YgiRn6ULadI",
        "outputId": "73ed783a-9738-4541-be18-c2e32aecabc5"
      },
      "source": [
        "import scipy.stats as stats\n",
        "\n",
        "#one-way anova for densities vs pct-affected\n",
        "affected0 = df[df['pct-wearing-masks'] == 0]['pct-affected']\n",
        "affected20 = df[df['pct-wearing-masks'] == 20]['pct-affected']\n",
        "affected40 = df[df['pct-wearing-masks'] == 40]['pct-affected']\n",
        "affected60 = df[df['pct-wearing-masks'] == 60]['pct-affected']\n",
        "affected80 = df[df['pct-wearing-masks'] == 80]['pct-affected']\n",
        "affected100 = df[df['pct-wearing-masks'] == 100]['pct-affected']\n",
        "stats.f_oneway(affected0, affected20, affected40, affected60, affected80, affected100)"
      ],
      "execution_count": null,
      "outputs": [
        {
          "output_type": "execute_result",
          "data": {
            "text/plain": [
              "F_onewayResult(statistic=76676.14384309023, pvalue=0.0)"
            ]
          },
          "metadata": {
            "tags": []
          },
          "execution_count": 7
        }
      ]
    },
    {
      "cell_type": "markdown",
      "metadata": {
        "id": "zXhUUT6aLadJ"
      },
      "source": [
        "Because the pvalue for our ANOVA analysis is greater than our alpha value of 0.05, we cannot say that there is a statistically significant difference between the percentage of people affected by the virus for varying percentages of mask wearing."
      ]
    },
    {
      "cell_type": "code",
      "metadata": {
        "colab": {
          "base_uri": "https://localhost:8080/",
          "height": 288
        },
        "id": "3lt7Mw0cLadJ",
        "outputId": "30bc232c-b3e8-41a7-ed01-ab32fd6ff9cc"
      },
      "source": [
        "#pivot table of mask percentage vs deaths at the end of the run\n",
        "pd.pivot_table(df1, index=['pct-wearing-masks'], \n",
        "               values = ['pct-deaths'], aggfunc = [np.mean])"
      ],
      "execution_count": null,
      "outputs": [
        {
          "output_type": "execute_result",
          "data": {
            "text/html": [
              "<div>\n",
              "<style scoped>\n",
              "    .dataframe tbody tr th:only-of-type {\n",
              "        vertical-align: middle;\n",
              "    }\n",
              "\n",
              "    .dataframe tbody tr th {\n",
              "        vertical-align: top;\n",
              "    }\n",
              "\n",
              "    .dataframe thead tr th {\n",
              "        text-align: left;\n",
              "    }\n",
              "\n",
              "    .dataframe thead tr:last-of-type th {\n",
              "        text-align: right;\n",
              "    }\n",
              "</style>\n",
              "<table border=\"1\" class=\"dataframe\">\n",
              "  <thead>\n",
              "    <tr>\n",
              "      <th></th>\n",
              "      <th>mean</th>\n",
              "    </tr>\n",
              "    <tr>\n",
              "      <th></th>\n",
              "      <th>pct-deaths</th>\n",
              "    </tr>\n",
              "    <tr>\n",
              "      <th>pct-wearing-masks</th>\n",
              "      <th></th>\n",
              "    </tr>\n",
              "  </thead>\n",
              "  <tbody>\n",
              "    <tr>\n",
              "      <th>0</th>\n",
              "      <td>9.666667</td>\n",
              "    </tr>\n",
              "    <tr>\n",
              "      <th>20</th>\n",
              "      <td>8.666667</td>\n",
              "    </tr>\n",
              "    <tr>\n",
              "      <th>40</th>\n",
              "      <td>8.333333</td>\n",
              "    </tr>\n",
              "    <tr>\n",
              "      <th>60</th>\n",
              "      <td>5.733333</td>\n",
              "    </tr>\n",
              "    <tr>\n",
              "      <th>80</th>\n",
              "      <td>4.200000</td>\n",
              "    </tr>\n",
              "    <tr>\n",
              "      <th>100</th>\n",
              "      <td>1.866667</td>\n",
              "    </tr>\n",
              "  </tbody>\n",
              "</table>\n",
              "</div>"
            ],
            "text/plain": [
              "                        mean\n",
              "                  pct-deaths\n",
              "pct-wearing-masks           \n",
              "0                   9.666667\n",
              "20                  8.666667\n",
              "40                  8.333333\n",
              "60                  5.733333\n",
              "80                  4.200000\n",
              "100                 1.866667"
            ]
          },
          "metadata": {
            "tags": []
          },
          "execution_count": 8
        }
      ]
    },
    {
      "cell_type": "code",
      "metadata": {
        "colab": {
          "base_uri": "https://localhost:8080/"
        },
        "id": "Tism4AtELadK",
        "outputId": "c9f9f755-8dbf-4735-e0cb-775f87113f39"
      },
      "source": [
        "#one-way anova for masks vs pct-deaths\n",
        "affected0 = df[df['pct-wearing-masks'] == 0]['pct-deaths']\n",
        "affected20 = df[df['pct-wearing-masks'] == 20]['pct-deaths']\n",
        "affected40 = df[df['pct-wearing-masks'] == 40]['pct-deaths']\n",
        "affected60 = df[df['pct-wearing-masks'] == 60]['pct-deaths']\n",
        "affected80 = df[df['pct-wearing-masks'] == 80]['pct-deaths']\n",
        "affected100 = df[df['pct-wearing-masks'] == 100]['pct-deaths']\n",
        "stats.f_oneway(affected0, affected20, affected40, affected60, affected80, affected100)"
      ],
      "execution_count": null,
      "outputs": [
        {
          "output_type": "execute_result",
          "data": {
            "text/plain": [
              "F_onewayResult(statistic=57638.16641419859, pvalue=0.0)"
            ]
          },
          "metadata": {
            "tags": []
          },
          "execution_count": 9
        }
      ]
    },
    {
      "cell_type": "markdown",
      "metadata": {
        "id": "ElH1C1zRLadL"
      },
      "source": [
        "Because the pvalue for our ANOVA analysis is greater than our alpha value of 0.05, we cannot say that there is a statistically significant difference between the percentage of people who died as a result of the virus for varying percentages of mask wearing."
      ]
    }
  ]
}